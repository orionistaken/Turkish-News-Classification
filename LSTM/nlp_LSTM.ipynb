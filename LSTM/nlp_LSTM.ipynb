{
  "nbformat": 4,
  "nbformat_minor": 0,
  "metadata": {
    "colab": {
      "provenance": [],
      "machine_shape": "hm",
      "gpuType": "V28"
    },
    "kernelspec": {
      "name": "python3",
      "display_name": "Python 3"
    },
    "language_info": {
      "name": "python"
    },
    "accelerator": "TPU"
  },
  "cells": [
    {
      "cell_type": "code",
      "execution_count": 1,
      "metadata": {
        "id": "I-K9IAwqCzwm"
      },
      "outputs": [],
      "source": [
        "import tensorflow as tf\n",
        "from tensorflow.keras.preprocessing.text import Tokenizer\n",
        "from tensorflow.keras.preprocessing.sequence import pad_sequences\n",
        "from tensorflow.keras.models import Sequential\n",
        "from tensorflow.keras.layers import Embedding, LSTM, Dense, SpatialDropout1D, Reshape\n",
        "from tensorflow.keras.callbacks import EarlyStopping\n",
        "import pandas as pd\n",
        "import numpy as np"
      ]
    },
    {
      "cell_type": "code",
      "source": [
        "from google.colab import drive\n",
        "drive.mount('/content/drive')"
      ],
      "metadata": {
        "colab": {
          "base_uri": "https://localhost:8080/"
        },
        "id": "AyuTLjs4C7Zs",
        "outputId": "ccfa81cc-0e33-4003-bfdf-77aeeb821965"
      },
      "execution_count": 2,
      "outputs": [
        {
          "output_type": "stream",
          "name": "stdout",
          "text": [
            "Mounted at /content/drive\n"
          ]
        }
      ]
    },
    {
      "cell_type": "code",
      "source": [
        "df = pd.read_csv('/content/drive/MyDrive/lemma.csv')\n",
        "\n",
        "print(df.isnull().sum())\n",
        "df.dropna(subset=['lemmatized_text'], inplace=True)\n",
        "print(df.isnull().sum())"
      ],
      "metadata": {
        "colab": {
          "base_uri": "https://localhost:8080/"
        },
        "id": "om2Y2tZvC9ev",
        "outputId": "60a02d20-9e30-4fd6-a2c9-3c6e1e67a24a"
      },
      "execution_count": 3,
      "outputs": [
        {
          "output_type": "stream",
          "name": "stdout",
          "text": [
            "Sınıf                0\n",
            "lemmatized_text    126\n",
            "dtype: int64\n",
            "Sınıf              0\n",
            "lemmatized_text    0\n",
            "dtype: int64\n"
          ]
        }
      ]
    },
    {
      "cell_type": "code",
      "source": [
        "import re\n",
        "\n",
        "def deleteunk(text):\n",
        "    return re.sub(r'\\bUNK\\b','', text)\n",
        "\n",
        "df[\"lemmatized_text\"] = df[\"lemmatized_text\"].apply(deleteunk)"
      ],
      "metadata": {
        "id": "9Hr1moCf9Y4x"
      },
      "execution_count": 4,
      "outputs": []
    },
    {
      "cell_type": "code",
      "source": [
        "toplam_token_sayisi = df['lemmatized_text'].apply(len).sum()\n",
        "print(f\"Toplam token sayısı: {toplam_token_sayisi}\")"
      ],
      "metadata": {
        "colab": {
          "base_uri": "https://localhost:8080/"
        },
        "id": "dNn_5NSLC2ml",
        "outputId": "29828538-14b3-4f45-d053-0d5f5a507b7f"
      },
      "execution_count": 5,
      "outputs": [
        {
          "output_type": "stream",
          "name": "stdout",
          "text": [
            "Toplam token sayısı: 1440389034\n"
          ]
        }
      ]
    },
    {
      "cell_type": "code",
      "source": [
        "import nltk\n",
        "nltk.download('punkt')\n",
        "from nltk.tokenize import word_tokenize\n",
        "\n",
        "df['token'] = df['lemmatized_text'].apply(word_tokenize)"
      ],
      "metadata": {
        "colab": {
          "base_uri": "https://localhost:8080/"
        },
        "id": "Pc2YR-d89g0Z",
        "outputId": "7b812a02-bacc-48d9-ea34-526b01ff65b4"
      },
      "execution_count": 6,
      "outputs": [
        {
          "output_type": "stream",
          "name": "stderr",
          "text": [
            "[nltk_data] Downloading package punkt to /root/nltk_data...\n",
            "[nltk_data]   Unzipping tokenizers/punkt.zip.\n"
          ]
        }
      ]
    },
    {
      "cell_type": "code",
      "source": [
        "toplam_token_sayisi = df['token'].apply(len).sum()\n",
        "print(f\"Toplam token sayısı: {toplam_token_sayisi}\")"
      ],
      "metadata": {
        "colab": {
          "base_uri": "https://localhost:8080/"
        },
        "id": "P0xpZOzk9juJ",
        "outputId": "d6527fa6-b377-42d6-f958-fe4f3b16f629"
      },
      "execution_count": 7,
      "outputs": [
        {
          "output_type": "stream",
          "name": "stdout",
          "text": [
            "Toplam token sayısı: 245255839\n"
          ]
        }
      ]
    },
    {
      "cell_type": "code",
      "source": [
        "# Silinecek tokenler listesi\n",
        "silinecek_tokenler = ['ol', 'et', 'yap', 'ben', 'ver', 'al', 'de', 'gel', 'yıl', 'gün', 'kendi', 'çık', 'söyle', 'ara', 'iş', 'var', 'son', 'yer', 'gör', 'git', 'başla', 'ilk', 'bulun', 'başkan', 'konu', 'türkiye', 'kullan', 'yüz', 'çalış']\n",
        "\n",
        "# Her satırda silinecek tokenleri df['token'] sütunundan çıkaralım\n",
        "df['temiz_text'] = df['token'].apply(lambda x: [token for token in x if token not in silinecek_tokenler])"
      ],
      "metadata": {
        "id": "HeMlJX4m9kJs"
      },
      "execution_count": 8,
      "outputs": []
    },
    {
      "cell_type": "code",
      "source": [
        "toplam_token_sayisi = df['temiz_text'].apply(len).sum()\n",
        "print(f\"Toplam token sayısı: {toplam_token_sayisi}\")"
      ],
      "metadata": {
        "colab": {
          "base_uri": "https://localhost:8080/"
        },
        "id": "pSNhInMT9nRo",
        "outputId": "d429d1dc-ede7-46fd-ab81-3e56a33c21cd"
      },
      "execution_count": 9,
      "outputs": [
        {
          "output_type": "stream",
          "name": "stdout",
          "text": [
            "Toplam token sayısı: 210577354\n"
          ]
        }
      ]
    },
    {
      "cell_type": "code",
      "source": [
        "from sklearn.model_selection import train_test_split\n",
        "\n",
        "max_words = 200000000\n",
        "max_len = 500\n",
        "\n",
        "tokenizer = Tokenizer(num_words=max_words)\n",
        "tokenizer.fit_on_texts(df['temiz_text'])\n",
        "X = tokenizer.texts_to_sequences(df['temiz_text'])\n",
        "X = pad_sequences(X, maxlen=max_len)\n",
        "y = np.array(df['Sınıf'])\n",
        "\n"
      ],
      "metadata": {
        "id": "_OStAKAnC-6l"
      },
      "execution_count": 10,
      "outputs": []
    },
    {
      "cell_type": "code",
      "source": [
        "X_train, X_test, y_train, y_test = train_test_split(X,y, test_size=0.2, random_state=42)\n",
        "X_train, X_val, y_train, y_val = train_test_split(X_train, y_train, test_size=0.25, random_state=42)\n",
        "\n",
        "\n"
      ],
      "metadata": {
        "id": "DhMMsGYaL8Qg"
      },
      "execution_count": 11,
      "outputs": []
    },
    {
      "cell_type": "code",
      "source": [
        "from sklearn.preprocessing import LabelEncoder\n",
        "\n",
        "label_encoder = LabelEncoder()\n",
        "y_train_encoded = label_encoder.fit_transform(y_train)\n",
        "y_test_encoded = label_encoder.transform(y_test)\n",
        "y_val_encoded = label_encoder.transform(y_val)\n",
        "\n",
        "\n",
        "from keras.utils import to_categorical\n",
        "\n",
        "num_classes = len(label_encoder.classes_)\n",
        "y_train_categorical = to_categorical(y_train_encoded, num_classes=num_classes)\n",
        "y_test_categorical = to_categorical(y_test_encoded, num_classes=num_classes)\n",
        "y_val_categorical = to_categorical(y_val_encoded, num_classes=num_classes)\n"
      ],
      "metadata": {
        "id": "7kEfIfEXOxH1"
      },
      "execution_count": 12,
      "outputs": []
    },
    {
      "cell_type": "code",
      "source": [
        "print(y_train_categorical.shape)\n",
        "print(y_test_categorical.shape)\n",
        "print(y_val_categorical.shape)"
      ],
      "metadata": {
        "colab": {
          "base_uri": "https://localhost:8080/"
        },
        "id": "LDpsx0fzZdCG",
        "outputId": "510d157e-f3fd-453c-82ea-7b7f5f800bc2"
      },
      "execution_count": 13,
      "outputs": [
        {
          "output_type": "stream",
          "name": "stdout",
          "text": [
            "(891529, 9)\n",
            "(297177, 9)\n",
            "(297177, 9)\n"
          ]
        }
      ]
    },
    {
      "cell_type": "code",
      "source": [
        "embedding_dim = 5\n",
        "model = Sequential()\n",
        "model.add(Embedding(max_words, embedding_dim, input_length=max_len))\n",
        "model.add(SpatialDropout1D(0.2))\n",
        "model.add(LSTM(128, dropout=0.2, recurrent_dropout=0.2))\n",
        "model.add(Dense(9, activation='softmax'))\n",
        "model.compile(loss='categorical_crossentropy', optimizer='adam', metrics=['accuracy',tf.keras.metrics.Precision(),tf.keras.metrics.Recall()])\n",
        "epochs = 8\n",
        "\n",
        "batch_size = 8192\n"
      ],
      "metadata": {
        "id": "EU9GH0jSDKHK"
      },
      "execution_count": 14,
      "outputs": []
    },
    {
      "cell_type": "code",
      "source": [
        "model.summary()"
      ],
      "metadata": {
        "colab": {
          "base_uri": "https://localhost:8080/"
        },
        "id": "mNXwvFYr_gLw",
        "outputId": "95e9023c-a619-4d1a-8fdd-970cd784c57f"
      },
      "execution_count": 15,
      "outputs": [
        {
          "output_type": "stream",
          "name": "stdout",
          "text": [
            "Model: \"sequential\"\n",
            "_________________________________________________________________\n",
            " Layer (type)                Output Shape              Param #   \n",
            "=================================================================\n",
            " embedding (Embedding)       (None, 500, 5)            1000000000\n",
            "                                                                 \n",
            " spatial_dropout1d (Spatial  (None, 500, 5)            0         \n",
            " Dropout1D)                                                      \n",
            "                                                                 \n",
            " lstm (LSTM)                 (None, 128)               68608     \n",
            "                                                                 \n",
            " dense (Dense)               (None, 9)                 1161      \n",
            "                                                                 \n",
            "=================================================================\n",
            "Total params: 1000069769 (3.73 GB)\n",
            "Trainable params: 1000069769 (3.73 GB)\n",
            "Non-trainable params: 0 (0.00 Byte)\n",
            "_________________________________________________________________\n"
          ]
        }
      ]
    },
    {
      "cell_type": "code",
      "source": [
        "history = model.fit(X_train, y_train_categorical, epochs=epochs, batch_size=batch_size, validation_data=(X_val, y_val_categorical), callbacks=[EarlyStopping(monitor='val_loss', patience=3, min_delta=0.0001)])"
      ],
      "metadata": {
        "colab": {
          "base_uri": "https://localhost:8080/"
        },
        "id": "xyuZivYE99hN",
        "outputId": "c0ff06b8-45fd-43b8-c7b7-794f6b342052"
      },
      "execution_count": 16,
      "outputs": [
        {
          "output_type": "stream",
          "name": "stdout",
          "text": [
            "Epoch 1/8\n",
            "109/109 [==============================] - 1851s 17s/step - loss: 1.7510 - accuracy: 0.3753 - precision: 0.7092 - recall: 0.1119 - val_loss: 1.2624 - val_accuracy: 0.5567 - val_precision: 0.7928 - val_recall: 0.3658\n",
            "Epoch 2/8\n",
            "109/109 [==============================] - 1811s 17s/step - loss: 1.0344 - accuracy: 0.6630 - precision: 0.8539 - recall: 0.5128 - val_loss: 0.7826 - val_accuracy: 0.7428 - val_precision: 0.8941 - val_recall: 0.6667\n",
            "Epoch 3/8\n",
            "109/109 [==============================] - 1812s 17s/step - loss: 0.7705 - accuracy: 0.7440 - precision: 0.8887 - recall: 0.6709 - val_loss: 0.6483 - val_accuracy: 0.7868 - val_precision: 0.9112 - val_recall: 0.7152\n",
            "Epoch 4/8\n",
            "109/109 [==============================] - 1801s 17s/step - loss: 0.6749 - accuracy: 0.7787 - precision: 0.9027 - recall: 0.6960 - val_loss: 0.5568 - val_accuracy: 0.8196 - val_precision: 0.9070 - val_recall: 0.7576\n",
            "Epoch 5/8\n",
            "109/109 [==============================] - 1808s 17s/step - loss: 0.6056 - accuracy: 0.8038 - precision: 0.8948 - recall: 0.7398 - val_loss: 0.4944 - val_accuracy: 0.8416 - val_precision: 0.9007 - val_recall: 0.8028\n",
            "Epoch 6/8\n",
            "109/109 [==============================] - 1807s 17s/step - loss: 0.6456 - accuracy: 0.7917 - precision: 0.8920 - recall: 0.7217 - val_loss: 0.7992 - val_accuracy: 0.7715 - val_precision: 0.9052 - val_recall: 0.6100\n",
            "Epoch 7/8\n",
            "109/109 [==============================] - 1810s 17s/step - loss: 0.7077 - accuracy: 0.7767 - precision: 0.8870 - recall: 0.6956 - val_loss: 0.5035 - val_accuracy: 0.8400 - val_precision: 0.9139 - val_recall: 0.7847\n",
            "Epoch 8/8\n",
            "109/109 [==============================] - 1803s 17s/step - loss: 0.5801 - accuracy: 0.8147 - precision: 0.8985 - recall: 0.7505 - val_loss: 0.4552 - val_accuracy: 0.8584 - val_precision: 0.9144 - val_recall: 0.8207\n"
          ]
        }
      ]
    },
    {
      "cell_type": "code",
      "source": [
        "model.save('nlp_model.h5')"
      ],
      "metadata": {
        "colab": {
          "base_uri": "https://localhost:8080/"
        },
        "id": "GnWsmBL0OX-z",
        "outputId": "4e8f7c8a-f76a-4396-a2a5-fe78056fde5d"
      },
      "execution_count": 17,
      "outputs": [
        {
          "output_type": "stream",
          "name": "stderr",
          "text": [
            "/usr/local/lib/python3.10/dist-packages/keras/src/engine/training.py:3103: UserWarning: You are saving your model as an HDF5 file via `model.save()`. This file format is considered legacy. We recommend using instead the native Keras format, e.g. `model.save('my_model.keras')`.\n",
            "  saving_api.save_model(\n"
          ]
        }
      ]
    },
    {
      "cell_type": "code",
      "source": [
        "tf.keras.models.save_model(model, 'nlp_model.hdf5')"
      ],
      "metadata": {
        "colab": {
          "base_uri": "https://localhost:8080/"
        },
        "id": "oJvp_C3rmhY2",
        "outputId": "71f84c1b-4b37-4889-987e-43e2746f12da"
      },
      "execution_count": 18,
      "outputs": [
        {
          "output_type": "stream",
          "name": "stderr",
          "text": [
            "<ipython-input-18-7bcaf00ffa2b>:1: UserWarning: You are saving your model as an HDF5 file via `model.save()`. This file format is considered legacy. We recommend using instead the native Keras format, e.g. `model.save('my_model.keras')`.\n",
            "  tf.keras.models.save_model(model, 'nlp_model.hdf5')\n"
          ]
        }
      ]
    },
    {
      "cell_type": "code",
      "source": [
        "drive.mount('/content/drive')\n",
        "\n",
        "import os\n",
        "\n",
        "# Hedef klasörün yolu\n",
        "drive_path = '/content/drive/MyDrive/data'\n",
        "\n",
        "# Klasör mevcut değilse oluştur\n",
        "if not os.path.exists(drive_path):\n",
        "    os.makedirs(drive_path)\n",
        "\n",
        "import shutil\n",
        "\n",
        "# model.hdf5 dosyasını kaydetmek istediğiniz yol\n",
        "destination_path = os.path.join(drive_path, 'nlp_model.hdf5')\n",
        "\n",
        "# model.hdf5 dosyasını belirlediğiniz yola kopyalama\n",
        "shutil.copy('nlp_model.hdf5', destination_path)\n",
        "\n",
        "if os.path.exists(destination_path):\n",
        "    print(\"Dosya başarıyla kaydedildi:\", destination_path)\n",
        "else:\n",
        "    print(\"Dosya kaydedilemedi.\")"
      ],
      "metadata": {
        "colab": {
          "base_uri": "https://localhost:8080/"
        },
        "id": "bixun32J2hef",
        "outputId": "982fc037-0cd7-4bdb-bd8a-3009ef251858"
      },
      "execution_count": 53,
      "outputs": [
        {
          "output_type": "stream",
          "name": "stdout",
          "text": [
            "Drive already mounted at /content/drive; to attempt to forcibly remount, call drive.mount(\"/content/drive\", force_remount=True).\n",
            "Dosya başarıyla kaydedildi: /content/drive/MyDrive/data/nlp_model.hdf5\n"
          ]
        }
      ]
    },
    {
      "cell_type": "code",
      "source": [
        "\n"
      ],
      "metadata": {
        "colab": {
          "base_uri": "https://localhost:8080/",
          "height": 36
        },
        "id": "XX3_RVZdmoPI",
        "outputId": "87d3a954-d595-426a-f36d-af58e2c75187"
      },
      "execution_count": 51,
      "outputs": [
        {
          "output_type": "execute_result",
          "data": {
            "text/plain": [
              "'/content/drive/MyDrive/data/nlp_model.hdf5'"
            ],
            "application/vnd.google.colaboratory.intrinsic+json": {
              "type": "string"
            }
          },
          "metadata": {},
          "execution_count": 51
        }
      ]
    },
    {
      "cell_type": "code",
      "source": [
        "\n",
        "\n"
      ],
      "metadata": {
        "colab": {
          "base_uri": "https://localhost:8080/"
        },
        "id": "TP02BNaBmomI",
        "outputId": "bcbd0055-6607-4f65-c486-a2aed0f2b490"
      },
      "execution_count": 52,
      "outputs": [
        {
          "output_type": "stream",
          "name": "stdout",
          "text": [
            "Dosya başarıyla kaydedildi: /content/drive/MyDrive/data/nlp_model.hdf5\n"
          ]
        }
      ]
    },
    {
      "cell_type": "code",
      "source": [
        "import matplotlib.pyplot as plt\n",
        "\n",
        "tr_acc = history.history['accuracy']\n",
        "tr_loss = history.history['loss']\n",
        "val_acc = history.history['val_accuracy']\n",
        "val_loss = history.history['val_loss']\n",
        "\n",
        "epochs = [i+1 for i in range(len(tr_acc))]\n",
        "\n",
        "plt.figure(figsize=(20, 8))\n",
        "plt.subplot(1, 2, 1)\n",
        "plt.plot(epochs, tr_acc, 'r', label='Train Accuracy')\n",
        "plt.plot(epochs, val_acc, 'g', label='Valid Accuracy')\n",
        "plt.title('Accuracy')\n",
        "plt.legend()\n",
        "plt.xlabel('Epochs')\n",
        "plt.ylabel('Accuracy')\n",
        "\n",
        "plt.subplot(1, 2, 2)\n",
        "plt.plot(epochs, tr_loss, 'r', label='Train Loss')\n",
        "plt.plot(epochs, val_loss, 'g', label='Valid Loss')\n",
        "plt.title('Loss')\n",
        "plt.legend()\n",
        "plt.xlabel('Epochs')\n",
        "plt.ylabel('Loss')\n",
        "\n",
        "plt.tight_layout()\n",
        "plt.show()"
      ],
      "metadata": {
        "colab": {
          "base_uri": "https://localhost:8080/",
          "height": 527
        },
        "id": "WZhcps6XaKwY",
        "outputId": "da7df10b-12b6-484c-e075-7d97af255397"
      },
      "execution_count": 19,
      "outputs": [
        {
          "output_type": "display_data",
          "data": {
            "text/plain": [
              "<Figure size 2000x800 with 2 Axes>"
            ],
            "image/png": "[encoded data removed]"
          },
          "metadata": {}
        }
      ]
    },
    {
      "cell_type": "code",
      "source": [
        "from sklearn.metrics import confusion_matrix, classification_report\n",
        "class_names = label_encoder.classes_\n",
        "\n",
        "\n",
        "# Tahminleri alın\n",
        "y_pred = model.predict(X_test)\n",
        "\n",
        "# Tahminleri etiket formatına dönüştürün (one-hot encoding)\n",
        "y_pred_labels = np.argmax(y_pred, axis=1)\n",
        "y_true_labels = np.argmax(y_test_categorical, axis=1)\n",
        "\n",
        "# Sınıflandırma raporunu çıkarın\n",
        "print(classification_report(y_true_labels, y_pred_labels,target_names=class_names))\n"
      ],
      "metadata": {
        "colab": {
          "base_uri": "https://localhost:8080/"
        },
        "id": "FBxrGM1iOwfg",
        "outputId": "74205a14-14e6-4db5-fbc4-e492a7b8c9c9"
      },
      "execution_count": 20,
      "outputs": [
        {
          "output_type": "stream",
          "name": "stdout",
          "text": [
            "9287/9287 [==============================] - 677s 73ms/step\n",
            "                 precision    recall  f1-score   support\n",
            "\n",
            "bilim-teknoloji       0.80      0.73      0.76     13741\n",
            " finans-ekonomi       0.75      0.60      0.67     13110\n",
            "   kültür-sanat       0.60      0.58      0.59     19846\n",
            "        magazin       0.92      0.92      0.92     97992\n",
            "         sağlık       0.86      0.94      0.90     24599\n",
            "        siyaset       0.85      0.94      0.89     61179\n",
            "           spor       0.96      0.96      0.96     45714\n",
            "         turizm       0.63      0.69      0.66     14360\n",
            "          çevre       0.43      0.07      0.12      6636\n",
            "\n",
            "       accuracy                           0.86    297177\n",
            "      macro avg       0.76      0.71      0.72    297177\n",
            "   weighted avg       0.85      0.86      0.85    297177\n",
            "\n"
          ]
        }
      ]
    },
    {
      "cell_type": "code",
      "source": [],
      "metadata": {
        "id": "HRrF1L8nNi7U"
      },
      "execution_count": null,
      "outputs": []
    },
    {
      "cell_type": "code",
      "source": [
        "from sklearn.metrics import confusion_matrix\n",
        "cm = confusion_matrix(y_pred_labels, y_true_labels,)\n",
        "\n",
        "print(cm)\n"
      ],
      "metadata": {
        "colab": {
          "base_uri": "https://localhost:8080/"
        },
        "id": "Ld3kE3-HDKEg",
        "outputId": "051500ea-1cc8-4857-d629-f1e5e6be1a45"
      },
      "execution_count": 21,
      "outputs": [
        {
          "output_type": "stream",
          "name": "stdout",
          "text": [
            "[[ 9983   191   243   146   433   146   158   284   874]\n",
            " [  210  7900    52    31    21   316    61   884  1106]\n",
            " [  501    74 11561  4351   293  1398   198   581   253]\n",
            " [  204   164  4827 90606   183   623   880   719   155]\n",
            " [ 1643    46   445   677 23002   282   169   189   142]\n",
            " [  699  2496  2177   861   524 57492   229  1521  1888]\n",
            " [  237    32   169   865    57   132 43685   190    70]\n",
            " [  151  2028   338   445    58   705   310  9857  1682]\n",
            " [  113   179    34    10    28    85    24   135   466]]\n"
          ]
        }
      ]
    },
    {
      "cell_type": "code",
      "source": [
        "import seaborn as sns\n",
        "class_names = label_encoder.classes_\n",
        "# Confusion matrix\n",
        "cm = confusion_matrix(y_pred_labels, y_true_labels)\n",
        "plt.figure(figsize=(8, 6))\n",
        "sns.heatmap(cm, annot=True, cmap='Blues', fmt='d', xticklabels=class_names, yticklabels=class_names)\n",
        "plt.xlabel('Predicted Labels')\n",
        "plt.ylabel('True Labels')\n",
        "plt.title('Confusion Matrix')\n",
        "plt.savefig('INCwithSGDConfusionMatrix.png')\n",
        "plt.show()"
      ],
      "metadata": {
        "colab": {
          "base_uri": "https://localhost:8080/",
          "height": 656
        },
        "id": "MNp6U7zcDKCG",
        "outputId": "cb79bbb3-9b43-4b44-8af1-756273adefc5"
      },
      "execution_count": 22,
      "outputs": [
        {
          "output_type": "display_data",
          "data": {
            "text/plain": [
              "<Figure size 800x600 with 2 Axes>"
            ],
            "image/png": "[encoded data removed]"
          },
          "metadata": {}
        }
      ]
    },
    {
      "cell_type": "code",
      "source": [
        "model.save('nlp.h5')"
      ],
      "metadata": {
        "colab": {
          "base_uri": "https://localhost:8080/"
        },
        "id": "lzB4gjw5DJz5",
        "outputId": "59b68284-09b8-430e-d7ef-91b299e6beff"
      },
      "execution_count": null,
      "outputs": [
        {
          "output_type": "stream",
          "name": "stderr",
          "text": [
            "/usr/local/lib/python3.10/dist-packages/keras/src/engine/training.py:3103: UserWarning: You are saving your model as an HDF5 file via `model.save()`. This file format is considered legacy. We recommend using instead the native Keras format, e.g. `model.save('my_model.keras')`.\n",
            "  saving_api.save_model(\n"
          ]
        }
      ]
    },
    {
      "cell_type": "code",
      "source": [
        "from sklearn.metrics import recall_score, precision_score\n",
        "\n",
        "# Recall ve precision değerlerini hesaplayalım\n",
        "recall = recall_score(y_true_labels, y_pred_labels, average='macro')\n",
        "precision = precision_score(y_true_labels, y_pred_labels, average='macro')\n",
        "\n",
        "print(f\"Recall: {recall}\")\n",
        "print(f\"Precision: {precision}\")"
      ],
      "metadata": {
        "colab": {
          "base_uri": "https://localhost:8080/"
        },
        "id": "1y031aeCNk41",
        "outputId": "0eb93490-ea07-4355-a1bf-a0ab198991ae"
      },
      "execution_count": null,
      "outputs": [
        {
          "output_type": "stream",
          "name": "stdout",
          "text": [
            "Recall: 0.7122953880668709\n",
            "Precision: 0.7487741943885619\n"
          ]
        }
      ]
    },
    {
      "cell_type": "code",
      "source": [
        "from sklearn.metrics import recall_score, precision_score\n",
        "\n",
        "# Recall ve precision değerlerini hesaplayalım\n",
        "recall = recall_score(y_true_labels, y_pred_labels, average='weighted')\n",
        "precision = precision_score(y_true_labels, y_pred_labels, average='weighted')\n",
        "\n",
        "print(f\"Recall: {recall}\")\n",
        "print(f\"Precision: {precision}\")"
      ],
      "metadata": {
        "colab": {
          "base_uri": "https://localhost:8080/"
        },
        "id": "djnxN5baORly",
        "outputId": "d71dd29d-3f1a-4744-d692-ce2aca7ec84a"
      },
      "execution_count": null,
      "outputs": [
        {
          "output_type": "stream",
          "name": "stdout",
          "text": [
            "Recall: 0.8610592340591634\n",
            "Precision: 0.8463702982279953\n"
          ]
        }
      ]
    },
    {
      "cell_type": "code",
      "source": [
        "from google.colab import files\n",
        "\n",
        "files.download('/content/nlp_model.h5')"
      ],
      "metadata": {
        "colab": {
          "base_uri": "https://localhost:8080/",
          "height": 34
        },
        "id": "0hsslG_32rIX",
        "outputId": "3418744e-b929-4d9c-d6d1-b38858336955"
      },
      "execution_count": null,
      "outputs": [
        {
          "output_type": "display_data",
          "data": {
            "text/plain": [
              "<IPython.core.display.Javascript object>"
            ],
            "application/javascript": [
              "\n",
              "    async function download(id, filename, size) {\n",
              "      if (!google.colab.kernel.accessAllowed) {\n",
              "        return;\n",
              "      }\n",
              "      const div = document.createElement('div');\n",
              "      const label = document.createElement('label');\n",
              "      label.textContent = `Downloading \"${filename}\": `;\n",
              "      div.appendChild(label);\n",
              "      const progress = document.createElement('progress');\n",
              "      progress.max = size;\n",
              "      div.appendChild(progress);\n",
              "      document.body.appendChild(div);\n",
              "\n",
              "      const buffers = [];\n",
              "      let downloaded = 0;\n",
              "\n",
              "      const channel = await google.colab.kernel.comms.open(id);\n",
              "      // Send a message to notify the kernel that we're ready.\n",
              "      channel.send({})\n",
              "\n",
              "      for await (const message of channel.messages) {\n",
              "        // Send a message to notify the kernel that we're ready.\n",
              "        channel.send({})\n",
              "        if (message.buffers) {\n",
              "          for (const buffer of message.buffers) {\n",
              "            buffers.push(buffer);\n",
              "            downloaded += buffer.byteLength;\n",
              "            progress.value = downloaded;\n",
              "          }\n",
              "        }\n",
              "      }\n",
              "      const blob = new Blob(buffers, {type: 'application/binary'});\n",
              "      const a = document.createElement('a');\n",
              "      a.href = window.URL.createObjectURL(blob);\n",
              "      a.download = filename;\n",
              "      div.appendChild(a);\n",
              "      a.click();\n",
              "      div.remove();\n",
              "    }\n",
              "  "
            ]
          },
          "metadata": {}
        },
        {
          "output_type": "display_data",
          "data": {
            "text/plain": [
              "<IPython.core.display.Javascript object>"
            ],
            "application/javascript": [
              "download(\"download_371047a3-dac1-4d8e-9504-e0b8d2587a59\", \"nlp_model.h5\", 10200558392)"
            ]
          },
          "metadata": {}
        }
      ]
    },
    {
      "cell_type": "code",
      "source": [
        "import re\n",
        "import nltk\n",
        "from nltk.corpus import stopwords\n",
        "\n",
        "# Stopwords verilerini indirin\n",
        "nltk.download('stopwords')"
      ],
      "metadata": {
        "colab": {
          "base_uri": "https://localhost:8080/"
        },
        "id": "ub0NCFFN8BZf",
        "outputId": "a6a291d3-3b8d-48a2-c15c-62eba6f7ec7a"
      },
      "execution_count": null,
      "outputs": [
        {
          "output_type": "stream",
          "name": "stderr",
          "text": [
            "[nltk_data] Downloading package stopwords to /root/nltk_data...\n",
            "[nltk_data]   Unzipping corpora/stopwords.zip.\n"
          ]
        },
        {
          "output_type": "execute_result",
          "data": {
            "text/plain": [
              "True"
            ]
          },
          "metadata": {},
          "execution_count": 35
        }
      ]
    },
    {
      "cell_type": "code",
      "source": [
        "!pip install JPype1\n",
        "import jpype\n",
        "from typing import List\n",
        "from jpype import JClass, JString, getDefaultJVMPath, shutdownJVM, startJVM, java"
      ],
      "metadata": {
        "colab": {
          "base_uri": "https://localhost:8080/"
        },
        "id": "1Q5wCAOl8mLO",
        "outputId": "8790a944-bd2d-4a75-cef8-fc2a08bfc60d"
      },
      "execution_count": 29,
      "outputs": [
        {
          "output_type": "stream",
          "name": "stdout",
          "text": [
            "Requirement already satisfied: JPype1 in /usr/local/lib/python3.10/dist-packages (1.5.0)\n",
            "Requirement already satisfied: packaging in /usr/local/lib/python3.10/dist-packages (from JPype1) (24.0)\n"
          ]
        }
      ]
    },
    {
      "cell_type": "code",
      "source": [
        "class Zemberek:\n",
        "    def __init__(self):\n",
        "        self.start_jvm()\n",
        "\n",
        "    def start_jvm(self):\n",
        "        if not jpype.isJVMStarted():\n",
        "            jpype.startJVM(\n",
        "                getDefaultJVMPath(),\n",
        "                \"-ea\",\n",
        "                \"-Djava.class.path=/content/zemberek-full.jar\",\n",
        "                convertStrings=False,\n",
        "            )\n",
        "\n",
        "        TurkishMorphology = JClass(\"zemberek.morphology.TurkishMorphology\")\n",
        "        self.morphology = TurkishMorphology.createWithDefaults()\n",
        "\n",
        "    def stop_jvm(self):\n",
        "        shutdownJVM()\n",
        "\n",
        "    def stem_word(self, word: str) -> str:\n",
        "        result = self.morphology.analyzeAndDisambiguate(word).bestAnalysis()\n",
        "        stems = [analysis.getStem() for analysis in result]\n",
        "        return stems[0] if stems else \"\"\n",
        "\n",
        "\n",
        "    def lemmatize_word(self, word: str) -> str:\n",
        "        result = self.morphology.analyzeAndDisambiguate(word).bestAnalysis()\n",
        "        lemmas = [analysis.getLemmas()[0] for analysis in result]\n",
        "        return lemmas[0] if lemmas else \"\"\n",
        "\n",
        "\n",
        "    def stem_sentence(self, sentence: str) -> List[str]:\n",
        "        return [self.stem_word(word) for word in sentence.split()]\n",
        "\n",
        "    def lemmatize_sentence(self, sentence: str) -> List[str]:\n",
        "        return [self.lemmatize_word(word) for word in sentence.split()]"
      ],
      "metadata": {
        "id": "zPAk1jT18yS_"
      },
      "execution_count": null,
      "outputs": []
    },
    {
      "cell_type": "code",
      "source": [
        "stopwords_turkish = set(stopwords.words('turkish'))\n",
        "stopwords_turkish.update([\"bir\", \"kadar\", \"sonra\", \"kere\", \"mi\", \"ye\", \"te\", \"ta\", \"nun\", \"daki\", \"nın\", \"ten\"])\n",
        "silinecek_tokenler = ['ol', 'et', 'yap', 'ben', 'ver', 'al', 'de', 'gel', 'yıl', 'gün', 'kendi', 'çık', 'söyle', 'ara', 'iş', 'var', 'son', 'yer', 'gör', 'git', 'başla', 'ilk', 'bulun', 'başkan', 'konu', 'türkiye', 'kullan', 'yüz', 'çalış']\n",
        "stopwords_turkish.update(silinecek_tokenler)\n",
        "\n",
        "url_pattern = re.compile(r'https?://\\S+')\n",
        "\n",
        "def remove_urls(text):\n",
        "    return url_pattern.sub('', text)\n",
        "\n",
        "def remove_stopwords(text):\n",
        "    return \" \".join(word for word in text.split() if word.lower() not in stopwords_turkish)\n",
        "\n",
        "def preprocessing(text):\n",
        "    text = text.lower()\n",
        "\n",
        "    text = remove_urls(text)\n",
        "\n",
        "    text = re.sub(r'([.,])\\s*', ' ', text)\n",
        "    text = re.sub(r'[^\\w\\s]', '', text)\n",
        "\n",
        "    text = re.sub(r'\\d', '', text)\n",
        "\n",
        "    text = re.sub(r'\\n', ' ', text)\n",
        "\n",
        "    text = re.sub(r'<.*?>', '', text)\n",
        "\n",
        "    text = remove_stopwords(text)\n",
        "\n",
        "    return text\n",
        "\n",
        "# Örnek kullanım\n",
        "# metin = \"Örnek bir metin 123! İçerisinde https://example.com URL ve çeşitli <b>HTML</b> etiketleri ile.\"\n",
        "# temizlenmiş_metin = preprocessing(metin)\n",
        "# print(temizlenmiş_metin)\n"
      ],
      "metadata": {
        "id": "8zUWq_3H5G99"
      },
      "execution_count": null,
      "outputs": []
    },
    {
      "cell_type": "code",
      "source": [
        "#finas-ekonomi- yanlış\n",
        "metin = \"Asgari ücrete ek zam yapılacak mı? Asgari ücret ara zammı için kapıyı kapattı Asgari ücret ile geçinmeye çalışan milyonlarca vatandaş Temmuz ayı için ek zam beklentisi arttı. Asgari ücrete zam için Çalışma ve Sosyal Güvenlik Bakanı Vedat Işıkhan bir kez daha kapattı. Bakan Işıkhan  Aralık ayındaki düşüncemiz neyse aynı şekilde devam ediyor. Hiçbir ara zam gündemimizde yok  ifadesini kullandı. Türkiye’de hemen hemen her kesimin alacağı maaş zammının belirlenmesinde önemli bir etken olan asgari ücret zammı için yükselen enflasyon nedeniyle beklenti oluştu. Asgari ücret için ara zam yapılmayacağını açıklayan Bakan Işıkhan, bir kez daha kapıyı kapattı.ASGARİ ÜCRETE ZAM GELECEK Mİ?Çalışma ve Sosyal Güvenlik Bakanı Vedat Işıkhan asgari ücret ve emekli maaşlarına ilişkin açıklamalarda bulundu.Bakan Işıkhan, AK Parti TBMM Grup Toplantısı öncesinde gazetecilerin sorularını yanıtladı.Işıkhan asgari ücrete zam olmayacağını söylerken emekli maaşları için temmuza işaret etti.Işıkhan, asgari ücrete ilişkin soru üzerine, ekonomik verilerin iyi gittiğine dikkati çekerek,  Aralık ayındaki düşüncemiz neyse aynı şekilde devam ediyor. Enflasyonla ilgili verilerimiz oldukça güzel geliyor. Hiçbir ara zam gündemimizde yok  ifadesini kullandı. ASGARİ ÜCRET ERİMEYE DEVAM EDECEK Asgari ücretin yıl ortasında en az yüzde 25.4 oranında eriyeceğini ortaya koyuyor. Asgari ücrete yıl ortasında zam yapılmaması halinde 2024 sonunda asgari ücretin alım gücü yarı yarıya erimiş olacak. Hesaplamalar hem asgari ücrete hem de en düşük emekli aylığına temmuzda en az yüzde 25 oranında zam yapılmasının kaçınılmaz hale geldiğini gösteriyor. Merkez Bankası’nın anketine göre ilk 4 ayda yüzde 18.72 olan enflasyonun, mayıs ayında yüzde 3, haziran ayında da yüzde 2.54 daha artacak. Enflasyonun tahmin edilen rakamların etrafında oluşması halinde haziran sonunda tüketici enflasyonu yüzde 25.4’e ulaşacak.EN AZ 21.320 TL OLMALITemmuzda memur ve emeklilere gerçekleşen enflasyon hesaba alınarak zam yapılacağı için bu kesim kısmen de olsa enflasyon kaybını telafi edecek. Ancak asgari ücrete zam yapılmaması halinde, açlık sınırının da altına düşmüş olan asgari ücretlinin her 4 lirasından 1 lirası enflasyonla buhar olacak. Üstelik ikinci 6 ayda kayıp daha da artarak maaşın yaklaşık yarısını götürecek.  Enflasyon beklentilerine göre 17 bin 2 lira olan asgari ücretin reel alım gücü haziran sonunda 13 bin 558 liraya düşecek. İlk 6 aylık enflasyon kaybının telafi edilebilmesi için asgari ücretin 1 Temmuz’dan geçerli olmak üzere en az 21 bin 320 liraya çıkarılması gerekiyor. Zam yapılmaması halinde ise asgari ücretin bir miktar üzerinde maaş alanlarla birlikte en az 10 milyon çalışan, açlıkla karşı karşıya kalacak.DÖRT AYDA YÜZDE 18 ERİDİ Türkiye İstatistik Kurumu (TÜİK) ocak-nisan arasındaki 4 ayda tüketici fiyatlarının yüzde 18.72 arttığını hesapladı. TÜİK’in resmi enflasyonuna göre, iktidarın yıl ortasında zam yapmayacağını açıkladığı 17.002 liralık asgari ücretin alım gücü mayıs başı itibarıyla 2.681 lira eriyerek 14 .321 liraya geriledi.  Asgari ücretin alım gücü İstanbul Ticaret Odası’nın (İTO) hesabıyla 14.043 liraya, alternaif enflasyon hesabı yapan ENAG’a göre ise 13.285 liraya düştü. Mayıs ve haziran tüketici fiyat endeksindeki (TÜFE) artışla birlikte 6 aylık enflasyonun yüzde 25’lere ulaşması bekleniyor. Bu durumda asgari ücretin alım gücü 13.600 liraya kadar gerileyeceği için ara zam kaçınılmaz hale gelecek.İKİ KEZ ASGARİ ÜCRETE ARA ZAM YAPILDIEnflasyonun hızla yükselmesinin etkisiyle 2022 ve 2023 yıllarında asgari ücrete temmuz ayından geçerli olacak şekilde ara zam yapıldı.2022 yılının ocak ayında  4 bin 253 TL olan asgari ücret temmuz ayında yapılan yüzde 29,3'lük ara zamla birlikte 5 bin 500 TL'ye çıkartılmıştı.2023 yılının ocak ayında asgari ücret yüzde 54,5 artışla 8 bin 506 TL olarak belirlenmiş, 2023 yılının temmuz ayında ise asgari ücrete yüzde 34 oranında ara zam yapılmış ve asgari ücret 11 bin 402 TL olmuştu. 2024 yılının ocak ayında ise asgari ücret yüzde 49 artışla 17 bin 2 TL'ye çıkartılmıştı.\"\n",
        "#spor - doğru\n",
        "metin2 = \"Aziz Yıldırım: Devletle kavga edemeyiz, hükümetle ederiz! Fenerbahçe'de eski başkan Aziz Yıldırım, yeniden adaylığını açıkladığı basın toplantısı öncesi salonda alkışlarla karşılandı. Fenerbahçe'yi yeniden şampiyon yapmak için aday olduğunu söyleyen Aziz Yıldırım'ın sözleri gündem yarattı. Fenerbahçe'de seçimli genel kurul öncesi başkanlığa yeniden aday olacağını açıklayan Aziz Yıldırım basın toplantısı düzenledi. Salona alkışlarla gelen ve 'Efsane döndü' tezahüratları ile karşılanan Yıldırım'ın açıklamaları Türkiye gündemine oturdu. Mevcut Başkan Ali Koç ile küs olmadıklarını, sadece fikir ayrılıkları olduğunu söyleyen Aziz Yıldırım teknik direktörlük konusunda Mourinho ile bir an önce anlaşılması gerektiğinin altını çizdi. İşte Aziz Yıldırım'ın toplantısından öne çıkan başlıklar:   ALTTAN YUKARI GİTMEYECEĞİZ  Bizi kim şampiyon yapmak istemiyor? İktidar mı, devlet mi? Hakemler mi, TFF Başkanı mı? Kim? Eğer bunlar birbirine bağlıysa, alttan yukarı gitmeyeceğiz! Yukarıdan söyleyeceğiz!   HÜKÜMETLE MÜCADELEMİZİ YAPARIZ!   Devlet ayrı, hükümet ayrı! Biz devletle kavga edemeyiz. Ama hükümetle haklı olduğumuzda mücadele yaparız, yaptık! FETÖ konusunda iç içeydiler, hep beraber yürüdük. Onun için açık olacağız.  BELA OLDUM, YİNE GELİYORUM!'  Kimseyle kavga etmeyeceğim dedim ama benimle kavga ederlerse ederim. 6 sene önce ben ayrılırken herkes 'Aziz Yıldırım gitti Türk futbolu kurtuldu.' dediler. Maalesef bugün geldik, 'Aziz Yıldırım gelsin Türk futbolunu kurtarsın.' diyorlar. Böyle bir memleket. 1 oyla beni seçtiniz, sağ olun. Sonrasında 20 sene Fenerbahçe'ye bela oldum. Yine geliyorum!   BEN KİMSENİN ADAMI DEĞİLİM   Yiğit Bulut'un trolleri varmış, AKP beni destekliyormuş falan... Ben kimsenin adamı değilim! Ben hiçbir partinin adamı değilim, olmam da! O troller de bu işlere girmesin. Ben duymam. Sakın bu işlere girmeyin. Hükümet desteği ile değil, bir laf uğruna geliyorum. 'Ben varken Fenerbahçe'yi şampiyon yapmayacaklar' lafı üzerine.. İktidar duruyor, TFF Başkanı duruyor, hakemler duruyor.. Çocuklar ağlıyor, öyle diyorlardı   BEN ALİ KOÇ İLE KÜS DEĞİLİM  Ben Ali Koç ile küs değilim. Fikirlerimiz farklı. Gelip divanda elimi sıksaydı 'hayır sıkma' mı diyecektim? Küs filan değilim kardeşim   ATATÜRK'Ü İYİ OKUYUN   Ben Atatürk'çüyüm! Ben laikim, ben Cumhuriyetçiyim! Hepinize tavsiye ediyorum. Atatürk'ü iyi okuyun. Yaptığı ilklere bakalım ve onları uygulamaya çalışalım. İşinize geliyorsa uygularsanız, işinize gelmiyorsa uygulamazsınız. Ama bu kadar kullanmayın. Herkes için söylüyorum. Bazı bizdekilere de söylüyorum. Gidenlere...  DEVLETTEN ALACAĞIMIZ VAR   Devletten maddi ve manevi alacağımız var. Hepimiz perişan olduk, şikeci damgası yedik. Fenerbahçe'nin borcu kadar alacağı var. Bunu masada çözmemiz lazım, mahkemede çözemeyiz. Ben seçilirim, seçilmem. 72 yaşındayım. Allah ne kadar ömür verir bilmem. 3 sene için geleceğim. 3 seneden fazla yapamam.   MOURINHO İLE ANLAŞIRSAK GELECEK   Mourinho ile 2 saat yüz yüze konuştum. O anlattı, ben anlattım. Hiç para konuşmadık. Fenerbahçe'nin maçlarını izlediğini söyledi. Bir aday iletişime geçmiş, mevcut başkan menajerleri göndermiş. Jose Mourinho şartlarda anlaşırsak gelecek. Ama rahat bırakmıyorsunuz, burayı takip ediyor. Suudi Arabistan'a gitmiyor, rahat olun. Bahreyn'e iki konferansa gidecek, 2 milyon dolar... Anlayın yani değerli basın, olumlu olun. Zeljko Obradovic ile 5 aydır hiç konuşmadım. Antrenör gayet iyi, iyi olan şey bozulmaz. Kötü olursa, bakılır.   KAYBEDERSEM YARI PARASINI ÖDEYECEĞİM Bu yönetime teklifim; Eğer onlar da Mourinho ile çalışmayı düşünüyorlarsa gelsinler beraberce imzayı atalım. Ben seçilirsem benimle devam, o seçilirse onunla devam. Biz kaybedersek Mourinho'nun parasının yarısını da ödemeyi taahhüt ediyorum. Bana oy vermeyenlere teşekkür ederim, beni hayata döndürdüler ve para kazandım.   BENİM DÖNEMİMDE GALATASARAY HİKAYEYDİ   Galatasaray'ın saha dışında çok güçlü olduğunu nerede söyledim? Atıyorsunuz abi... Benim olduğum dönemde Galatasaray hikayeydi! Biz FETÖ ile mücadele ettik. Devletin içine sızdılar, devlet ile mücadele ettik. Onlarla mücadele etmekten, başka şey ile mücadele edemedik. En son Ankara'ya gittim ve 'Hapis yatmaya razıyım, karar verin' dedim. Verdiler!   ÇOK PARA HARCADILAR   Seçilirsem çok önemli bir sürprizim var: Kalamış'ta güneşin doğmadığını, battığını söyleyeceğim. Ramos'u alın, Dzeko'yu alın dedik. Biz Anelka, Ortega'yı getirdik. Gidiyorsunuz, ilk 1-2 sene çok kötü transferler yapıyorsunuz. Çok para harcadılar!   HEDEFİM TÜRKİYE'DE ŞAMPİYONLUK'  Benim hedefim Türkiye'de şampiyonluk. Ne Şampiyonlar Ligi kardeşim! İnsanlara hayal satmayacağız. Benim hedefim ilk önce Türkiye'de şampiyonluk. Sonrasına bakarız   BÜTÜN FETÖCÜ'LERİ AFİŞE EDECEĞİM   Sporda FETÖ operasyonu yapıldı mı? Hakemlerde yapıldı mı? Yönetim kurullarında yapıldı mı? Basında da yapılması lazım. 3 Temmuz sabahı bütün yemi alıp anlatan adam, bugün Halk TV'de program yapıyor. Geldiğimde bunları hep kocuşacağım. Bütün FETÖ'cüleri afişe edeceğim.   ŞAMPİYONLUKTAN BİRLİKTE ETTİK  Derdim Fenerbahçe'nin şampiyon olması. Dört sene Fenerbahçe şampiyon olamadı, nedenini biliyorum. Mahkemeler... Ben ve dava arkadaşlarım her gün mahkemeye gittik. Mahkemeler uğraştık ve Fenerbahçe'ye zarar verdik. Bunu biliyoruz. Sonra kombine almayın, forma almayın, maça gitmeyin gibi şeyler denildi. Hep beraber Fenerbahçe'yi şampiyonluktan ettik, hep beraber...  HAPİSTEYKEN KULÜBÜ HALKA AÇTIM   Fenerbahçe kurumsal bir yapı, dışardan adam getirip kulübü incelettiler. Böyle bir şey olabilir mi? Dün Fenerbahçe'nin durumunu dağıttlar, belgeleri arkadaşlarımız inceliyor. Varsa düşüncemiz söylerim. Fenerbahçe'de para sorunu olmaz! Ben neden kulübü halka açtım? Ben istesem bunu yapmam, ölene kadar başkan olurdum. Hapisteyken kulübü halka açtım, 1 milyon üye olsun istedim. Anadolu'da Fenerbahçelileri bir araya getirecek binalar açılmasını istedim, birkaç yerde yaptık. Ancak kapattılar.   Fenerbahçe, Türkiye'nin en büyük sivil toplum örgütlerinden biridir. Fenerbahçe'nin istemediği bir şey Türkiye'de olmaz! Ne zaman? Bir araya gelirsek! Beraber olmazsak, hiçbir şey olmaz Fenerbahçe'den. Türkiye'nin Kuva-yi Milliye'si Fenerbahçe Spor Kulübü'dür.   KEYFİM YERİNDEYDİ, NEDEN ADAY OLDUM?   Başkanlığa hiç niyetim yoktu. Keyfim yerinde, para da kazanıyordum. İşlerim tıkırında ama Fenerbahçe'de bazı sıkıntılar var, onu gördüm. Arkadaşlarıma 'Biriniz aday olun, yürüyelim' dedim ama 'Sen varken olmayız' dediler. O zaman mecbur kaldım. 20 sene başkanlık yaptım, zor günlerde 6 şampiyonluk yaşadık. Para konuşmadık.   NİHAT ÖZDEMİR FENERBAHÇE'NİN DEĞERİYDİ Nihat Özdemir... 12 sene benim yanımda ikinci başkanlık yaptı. Bu kulübe hizmet etti. Aralarındaki husumet bugünün husumeti değil, 2011 yılından. Bilmediğiniz konular var. Değerdi değer, Fenerbahçe'nin değeriydi. TFF başkanı oldu. Adama salladılar salladılar, o da Fenerbahçe'den istifa etti. Al çiçeği eline, git 'Başkan bize bunu bunu yapıyorlar, bunu çöz.' de. Niye geldin mi diyecekti?\"\n",
        "#bilim-teknoloji\n",
        "metin3 = \"Rockstar Games, 10 yılın ardından Grand Theft Auto serisinin yeni oyunu GTA 6‘yı duyurmak için geçtiğimiz günlerde ilk fragmanı paylaştı. Bu fragman, internet üzerinde o kadar büyük ilgi gördü ki oyun henüz piyasaya sürülmemiş olmasına rağmen şirkete rekor kırdırdı. Son gelişmelere göreyse GTA 6 fragmanında kullanılan şarkı çok konuşuldu. Rockstar Games, GTA 6‘nın tanıtım fragmanını 5 Aralık‘ta YouTube üzerinde yayınladı. On milyonlarca kez izlenen video, Guinness Rekorlar Kitabı’na bile girdi. Bununla beraber bu videoda kullanılan şarkı da çok dinlenmeye başladı. Aktarılan bilgilere göre GTA 6 fragmanında kullanılan, 2017 yılında hayata gözlerini yuman Tom Petty tarafından söylenen “Love Is A Long Road” adlı şarkı, video yayınlandıktan sonra sonra dijital müzik servisi Spotify‘da önceki haftaya göre yüzde 36 bin 979 daha fazla dinlendi. Böylelikle en çok çalınan parçalar listesine adını yazdırmayı başardı. Söz konusu şarkının YouTube platformundaki dinlenme sayısının da arttığı görülüyor. Bunun yanı sıra GTA 6 fragmanı, ilk 24 saatte en çok izlenme rekoru da kırdı. Geçtiğimiz günlerde çıkan bir habere göre video, yayınlanmasının ardından daha 24 saat bile geçmeden 70 milyondan fazla izlendi. Bu rekoru daha önce ABD’li YouTuber MrBeast, 59.4 milyon izlenmeye sahip “7 Days Stranded At Sea” (“7 Gün Denizde Mahsur Kaldık”) videosu ile elinde tutuyordu. Ünlü YouTuber da X (Twitter) hesabı üzerinden bunu paylaştı. Rockstar Games‘in GTA 6 için çıkış yılı olan 2025’e kadar birkaç fragman daha yayınlaması bekleniyor. Peki siz bu konu hakkında neler düşünüyorsunuz? Yeni oyundan beklentileriniz neler? Görüşlerinizi aşağıdaki Yorumlar kısmından bizimle paylaşabilirsiniz.\"\n",
        "#siyaset- doğru\n",
        "metin4 = \"Bahçeli: Kanun dışı ilişki ağlarının farkındayız Milliyetçi Hareket Partisi (MHP) Genel Başkanı Devlet Bahçeli, görevden uzaklaştırılan emniyet görevlilerine ilişkin  Olan biten tüm kanun dışı irtibat ve ilişki ağlarının farkındayız. Birkaç emniyet müdürünün açığa alınmasıyla geçiştirilemeyecek bir komplo devrededir; nitekim hedef MHP, AK Parti, Cumhur İttifakı ve son tahlilde Türkiye'dir.  dedi. MHP Genel Başkanı Devlet Bahçeli, partisinin Türkiye Büyük Millet Meclisi (TBMM) grup toplantısında konuştu. Bahçeli, 14. olağan büyük kurultayda kabul edilen yenilenmiş parti programlarında yer alan dış politika esaslarına değindi. Bölgesel veya küresel mahiyetli sorunların uluslararası hukuk çerçevesinde adil ve kalıcı çözümlere kavuşturmanın dış politikalarının özünü teşkil ettiğini vurgulayan Bahçeli, uluslararası karar alma mekanizmalarının baştan ayağa revize edilmesinin, artan reform çağrılarının mutabakata bağlanmasının küresel istikrarın tesisi bakımından artık ertelenemez bir mecburiyet olduğunu söyledi. Bahçeli, Birleşmiş Milletler (BM) Genel Kurulu'nda, Filistin'in üyeliğinin Güvenlik Konseyi'nde tekrar görüşülmesi ve bu ülkeye bazı ilave haklar tanınmasını öngören tasarının onaylandığını anımsatarak, şöyle devam etti: Uluslararası toplum ezici çoğunlukla Filistin'in yanında durmuştur. Küresel vicdan Filistin halkının meşru mücadelesine destek verirken, İsrail saldırılarına bir nevi tepki göstermiştir. Filistin'in üyelik tasarısının BM Genel Kurulu'nda onaylanması karşısında İsrail temsilcisinin çıldırmış gibi Birleşmiş Milletler Şartı'nın bir kopyasını imha etmesi, kararın terör için bir ödül olduğunu ileri sürmesi siyonist vandallığa uygun düşen bir saygısızlık ve seviyesizlik olarak kayıtlara geçmiştir.\"\n",
        "#magazin - doğru\n",
        "metin5 = \"Oyuncu Yasemin Allen, meslektaşı Murat Cemcir ile bir programa katıldı. Allen, sorulan bir soruya Seranay Sarıkaya cevabını vererek dikkat çekti. Yasemin Allen ile Murat Cemcir Yasemin Şefik'in 'Uyduruk Sonlar' adlı talk show programına konuk oldu. Yasemin Şefik oyunculara Diyelim ki beraber bir dizide sevgiliyi oynuyorsunuz ve sizi ayıran kişi kim olurdu? Serenay Sarıkaya mı, Kıvanç Tatlıtuğ mu? diye sordu. BİRAZ SKANDAL OLACAK Yasemin Allen Biraz skandal olacak. Serenay diyorum. 'Seni Serenay için terk ediyorum yanıtını verdi. Murat Cemcir de Ben de aynı şeyi yapardım dedi.\"\n",
        "#kültür-sanat -yanlış\n",
        "metin6 = \"2024'ün ilk 3 ayında en çok izlenen 10 filmden 9'u yerli yapım oldu. Türkiye'de 2024'ün ilk üç ayında en çok izlenen filmler ve seyirci rakamları... 2024 yılında vizyona giren filmlerin ne kadar izlendiği açıklandı. Box Office Türkiye'den derlenen bilgilere göre, 107 yeni filmin vizyona girdiği 3 ayda, toplam izleyici sayısı 14 milyon 252 bin 971'e ulaştı.Türkiye'de 2024'ün ilk üç ayında en çok izlenen filmler ve seyirci rakamları şöyle...Rafadan Tayfa 4: HayrimatörTRT Çocuk'un kahramanlarının geçmişin ve geleceğin ortasında dev bir maceraya hazırlanmalarını konu alan  Rafadan Tayfa 4: Hayrimatör , en çok izlenen filmler arasında ilk sırada yer aldı. Arzu Yurtseven'in kaleme aldığı, yönetmenliğini ve müziklerini İsmail Fidan'ın üstlendiği yapımı 2 milyon 795 bin 662 kişi izledi. Filmden elde edilen gelir ise 305 milyon 423 bin liraya ulaştı.Sadece üstün zekalı öğrencilerin kabul edildiği bir bilim teknik okuluna kabul edilen Hayri, zamanının çoğunu “Yüzyılın İcadı” olan dev robot Hayrimatör'e harcar. Ancak Hayri, bir mühendislik harikası olan Hayrimatör'ün çalışmasını sağlayacak güç kaynağını bir türlü elde edemez.LohusaGupse Özay'ın senaryosunu yazıp başrolünde oynadığı  Lohusa , yılın en çok izlenen ikinci filmi oldu. Kıvanç Baruönü'nün yönettiği filmi 2 milyon 124 bin 610 kişi izlerken, yapımdan elde edilen gelir ise 281 milyon 362 bin lira oldu. Özay'ın yanı sıra Onur Gürçay, Hazal Türesan, Esra Ruşan, Elif Nur Kerkük, Cihan Albayrak ve Alper Baytekin'in rol aldığı film, yeni ebeveyn olan bir anne ve babanın ilk 40 günde başlarına gelen komik olayları anlatıyor.Kolpaçino 4 4'lükŞafak Sezer'in, senaryosunu yazdığı  Kolpaçino 4 4'lük , 2 milyon izleyici sınırını aşarak, en çok izlenen filmler arasında üçüncü sırada yer aldı.Kendisine haksızlık eden dostlarıyla hesaplaşmaya karar veren Özgür'ün hikayesini beyaz perdeye taşıyan yapım, 2 milyon 100 bin kişi tarafından izlendi. Filmden elde edilen gelir ise 240 milyon 954 bin liraya ulaştı.3391 KilometreYazar Beyza Alkoç'un  3391 Kilometre  adlı kitabından sinemaya uyarlanan  3391 Kilometre , en çok izlenen 4. film oldu. Kreatif direktörlüğünü Ömer Faruk Sorak'ın üstlendiği, yönetmen koltuğunda Deniz Enyüksek'in oturduğu yapımı 921 bin 979 kişi izledi. Filmden elde edilen hasılat ise 113 milyon 437 bin lira oldu.Fulya Özcan'ın senaryosunu kaleme aldığı, Paris, İstanbul ve İzmir'de çekilen film, birbirlerinden çok uzakta olmalarına rağmen sevginin güçlü bağını hissedebilen iki gencin hikayesini konu alıyor.Kral Şakir: Devler UyandıKral Şakir serisinin son filmi  Kral Şakir: Devler Uyandı , listede 5. sırada yer aldı. Nemrut Dağı'nın kültürel zenginliklerini çocukların gözünden beyaz perdeye aktaran yapımı 584 bin 647 kişi seyretti, elde edilen gelir ise 77 milyon 332 bin liraya ulaştı.Atatürk 1881- 1919Yılın ilk günlerinde vizyona giren  Atatürk 1881-1919 , 563 bin 582 izleyiciye ulaşarak, yılın en çok izlenen 6. filmi oldu. Filmden 73 milyon 265 bin lira gelir elde edildi. Aras Bulut İynemli'nin Mustafa Kemal Atatürk'ü canlandırdığı Atatürk serisinin ikinci filmi, Çanakkale Savaşı'na ve 1919 yılına kadar olan süreci işliyor.Mehmet Ada Öztekin'in yönetmen koltuğunda oturduğu filmde, İynemli'ye Songül Öden, Sarp Akkaya, Esra Bilgiç, Celile Toyon ve Darko Peric eşlik etti.Dune: Çöl Gezegeni Bölüm İkiDenis Villeneuve'un yönettiği  Dune: Çöl Gezegeni Bölüm İki , yılın ilk 3 ayında en çok izlenen 7. film olarak listeye girdi. Macera, bilim kurgu ve aksiyon meraklılarının ilgisini çeken yapımı izleyenlerin sayısı 525 bin 360 olurken, elde edilen gelir ise 99 milyon 970 bin liraya ulaştı.Listedeki tek yabancı yapım olan filmde Timothee Chalamet, Zendaya, Rebecca Ferguson, Javier Bardem, Josh Brolin, Austin Butler, Florence Pugh, Dave Bautista, Christopher Walken, Stephen McKinley Henderson ve Lea Seydoux rol aldı.Kardeş TakımıAnne babalarının aslında birer gizli ajan olduklarını öğrenen kardeşlerin hikayesini işleyen komedi filmi  Kardeş Takımı , en çok izlenen 8. yapım oldu. Filmi 449 bin 388 kişi izlerken, elde edilen hasılat ise 56 milyon 43 bin lirayı buldu.Fırat Albayram, Ceyda Kasabalı, Çağan Efe Ak, Ecrin Su Çoban, Mehmet Aybars Kaya, Gece Işık Demirel, Mert Denizmen, Gülhan Tekin ve Melis İşiten gibi isimlerin rol aldığı filmi Mustafa Kotan yönetti.Mutluyuzİbrahim Büyükak'ın yönetmenliğini yapıp başrolünü Yasemin Sakallıoğlu ile paylaştığı  Mutluyuz  filmini 448 bin 810 kişi izledi. Komediseverleri sinema salonlarına çeken yapım, en çok izlenen 9. film oldu.Boşanma aşamasındaki bir çiftin hayatını ele alan yapımdan elde edilen gelir ise 55 milyon 760 bin lira oldu.Zaferin RengiAbdullah Oğuz imzalı  Zaferin Rengi , 268 bin kişi tarafından izlenerek, yılın ilk üç ayında en çok izlenen 10. yapım oldu.Film, Milli Mücadele'nin zaferle sonuçlanmasının arifesinde, işgal altındaki İstanbul'da, Harington Kupası'nda Birleşik Krallık işgal kuvvetleri karma futbol takımına karşı, Fenerbahçe'nin elde ettiği zaferi, istiklal mücadelesinde yer alan dönemin önemli isimleri eşliğinde beyaz perdeye yansıtıyor. Yapımdan 40 milyon 659 bin lira gelir elde edildi.\"\n",
        "#sağlık - yanlış\n",
        "metin7 = \"Hastanelerde  Onaylı Randevu  dönemi Sağlık Bakanlığınca hayata geçirilen  Onaylı Randevu  sistemiyle hastalar, randevu tarihinden bir gün önce saat 20.00'ye kadar randevusuna onay verecek veya gelemeyeceğini Merkezi Hekim Randevu Sistemi'ne (MHRS) bildirecek. Hastalar öncelikle, Sağlık Bakanlığına bağlı sağlık kuruluşlarından, MHRS internet sitesi, mobil uygulama veya  ALO 182  çağrı merkezinden randevu oluşturacak. Yeni uygulamayla randevu tarihinden bir gün önce saat 20.00'ye kadar hastaların randevusuna onay vermesi veya gelemeyeceğini sisteme bildirmesi gerekecek. Üzerinde herhangi bir işlem yapılmayan randevular, bir gün önce saat 20.00'de otomatik olarak iptal edilecek. Bu durumda kişi tekrar randevu alabilecek, herhangi bir kısıtlama uygulanmayacak. Randevusunu onayladığı halde gitmeyen kişilerin ise aynı branşta 15 gün boyunca yeni randevu alması kısıtlanacak. Uygulamadan 65 yaş üstü hastalar ve kanser hastaları muaf tutulacak, bu gruptaki hastalar, her zaman randevu alabilecek.Onaylı Randevu Sistemi'nde, randevuların iptal edilmesinin ardından boş kalan kapasite için sistemden randevu alamayan ancak talep bırakmış hastalara ulaşılacak, öncelik talepte bulunan hastalara verilecek.\"\n",
        "#turizm - yanlış\n",
        "metin8 = \"Muğla'nın Milas ilçesinde mavi-beyaza boyanan kaldırım taşları, Yunan bayrağına benzediği gerekçesi ile yeniden değiştirildi.Milas'a bağlı Beçin beldesinin Soğukkuyu semtinde halk vebelediyeişbirliğinde 'mavi-beyaz' boyanan kaldırımlar, Yunan bayrağını andırdığını düşüncesi ile tepki gördü. MilasBelediyesi ve BeçinBelediyesi sınırlarının belli olması amacıyla farklı bir renge boyanan tretuar taşları sorun oldu. Tepkiler üzerine tretuar taşlarının rengibelediyeekipleri tarafından 'turuncu' olarak değiştirildi.Soğukkuyu semtinde kaldırım taşlarındaki değişiklikle ilgili Beçin'i seven gönüllüler tarafından oluşturulan birinternetsitesinde şu açıklamalara yer verildi; Beldemiz Soğukkuyu Semti'nin kaldırımlarının boyanması, çiçeklendirilmesi, ağaçlandırılması da gönüllü semt sakinlerinin maddi ve fiziki katkıları ile yapılmıştır. Hatta sulama işleri dahi semt sakinlerinin katkıları ile devam etmektedir. Milas ile BeçinBelediyesınırının birbirinden ayrılması amacıyla taşların renginin farklı olması düşünülmüş ve mavi rengin gözleri ve insanı dinlendirmesi ve hoş gözükmesi düşüncesi ile mavi ve beyaz boyanmaya başlanılmıştır.Ancak bazı kesimler, tretuar taşlarının rengini Yunan bayrağına benzetince hemen boya rengi değiştirilmiştir. Vatan toprağına sahip çıkmak mı daha önemli, göze hitap eden ancak hiç anlamı yokken Yunan Bayrağına benzetilip değiştirilmesi istenen boyanın rengine takmak mı? \"\n",
        "#çevre - yanlış\n",
        "metin9 = \"Neom projesi: Suudi güvenlik güçlerine ekolojik kent inşaası için 'öldürme izni verildiği' iddia edildi. Suudi Arabistan'da onlarca Batılı şirketin desteğiyle inşa edilen ekolojik şehir projesi Neom için çöldeki çalışmalar devam ediyor. BBC'nin eski bir istihbarat yetkilisinden aldığı bilgiye göre şehrin inşası için bölgedeki arazileri boşaltmaya çalışan Suudi yetkililer, güvenlik güçlerine evlerini terk etmeyi reddedenleri gerekirse vurarak öldürmeleri emrini verdi. Albay Rabih Alenezi, Neom adı verilen proje kapsamındaki The Line (Hat) isimli dikey şehrin inşası için bölgedeki köylüleri evlerinden çıkarma emri aldığını söyledi. Evini terk etmeyi reddeden bir kişi vurularak öldürüldü. Suudi hükümeti ve Neom projesi yetkilileri bu iddialarla ilgili sorulara yanıt vermeyi reddetti.\""
      ],
      "metadata": {
        "id": "F3t__nIcGc_B"
      },
      "execution_count": null,
      "outputs": []
    },
    {
      "cell_type": "code",
      "source": [
        "zemberek = Zemberek()\n",
        "\n",
        "metin = preprocessing(metin9)\n",
        "lemma = zemberek.lemmatize_sentence(metin)\n",
        "lemma = [str(word) for word in lemma]\n",
        "\n",
        "tokenizer = tf.keras.preprocessing.text.Tokenizer()\n",
        "tokenizer.fit_on_texts([metin])\n",
        "sequences = tokenizer.texts_to_sequences([' '.join(lemma)])\n",
        "padded_sequences = tf.keras.preprocessing.sequence.pad_sequences(sequences, maxlen=500,  padding='post')\n",
        "\n",
        "\n",
        "pred = model.predict(padded_sequences)\n",
        "\n",
        "print(pred)\n",
        "\n",
        "predicted_class_index = np.argmax(pred)\n",
        "\n",
        "predicted_class_name = class_names[predicted_class_index]\n",
        "\n",
        "print(\"Predicted class name:\", predicted_class_name)\n"
      ],
      "metadata": {
        "colab": {
          "base_uri": "https://localhost:8080/"
        },
        "id": "LLzjEYgq8HOM",
        "outputId": "db089a41-2b18-4918-a571-f1a31f6296aa"
      },
      "execution_count": null,
      "outputs": [
        {
          "output_type": "stream",
          "name": "stdout",
          "text": [
            "1/1 [==============================] - 0s 75ms/step\n",
            "[[0.07330864 0.10459876 0.104866   0.13065742 0.05981656 0.28043675\n",
            "  0.05242225 0.09109528 0.10279828]]\n",
            "Predicted class name: siyaset\n"
          ]
        }
      ]
    },
    {
      "cell_type": "code",
      "source": [
        "!pip install streamlit -q\n",
        "!pip install JPype1\n"
      ],
      "metadata": {
        "colab": {
          "base_uri": "https://localhost:8080/"
        },
        "id": "Yjj57Z7VpBWm",
        "outputId": "86e45ad0-7f41-42d9-9334-086f7be78bbc"
      },
      "execution_count": 23,
      "outputs": [
        {
          "output_type": "stream",
          "name": "stdout",
          "text": [
            "\u001b[2K     \u001b[90m━━━━━━━━━━━━━━━━━━━━━━━━━━━━━━━━━━━━━━━━\u001b[0m \u001b[32m8.5/8.5 MB\u001b[0m \u001b[31m23.1 MB/s\u001b[0m eta \u001b[36m0:00:00\u001b[0m\n",
            "\u001b[2K     \u001b[90m━━━━━━━━━━━━━━━━━━━━━━━━━━━━━━━━━━━━━━━━\u001b[0m \u001b[32m40.8/40.8 MB\u001b[0m \u001b[31m24.8 MB/s\u001b[0m eta \u001b[36m0:00:00\u001b[0m\n",
            "\u001b[2K     \u001b[90m━━━━━━━━━━━━━━━━━━━━━━━━━━━━━━━━━━━━━━━━\u001b[0m \u001b[32m207.3/207.3 kB\u001b[0m \u001b[31m19.1 MB/s\u001b[0m eta \u001b[36m0:00:00\u001b[0m\n",
            "\u001b[2K     \u001b[90m━━━━━━━━━━━━━━━━━━━━━━━━━━━━━━━━━━━━━━━━\u001b[0m \u001b[32m6.9/6.9 MB\u001b[0m \u001b[31m71.3 MB/s\u001b[0m eta \u001b[36m0:00:00\u001b[0m\n",
            "\u001b[2K     \u001b[90m━━━━━━━━━━━━━━━━━━━━━━━━━━━━━━━━━━━━━━━━\u001b[0m \u001b[32m83.0/83.0 kB\u001b[0m \u001b[31m7.2 MB/s\u001b[0m eta \u001b[36m0:00:00\u001b[0m\n",
            "\u001b[2K     \u001b[90m━━━━━━━━━━━━━━━━━━━━━━━━━━━━━━━━━━━━━━━━\u001b[0m \u001b[32m62.7/62.7 kB\u001b[0m \u001b[31m6.9 MB/s\u001b[0m eta \u001b[36m0:00:00\u001b[0m\n",
            "\u001b[?25hCollecting JPype1\n",
            "  Downloading JPype1-1.5.0-cp310-cp310-manylinux_2_17_x86_64.manylinux2014_x86_64.whl (488 kB)\n",
            "\u001b[2K     \u001b[90m━━━━━━━━━━━━━━━━━━━━━━━━━━━━━━━━━━━━━━━━\u001b[0m \u001b[32m488.6/488.6 kB\u001b[0m \u001b[31m3.2 MB/s\u001b[0m eta \u001b[36m0:00:00\u001b[0m\n",
            "\u001b[?25hRequirement already satisfied: packaging in /usr/local/lib/python3.10/dist-packages (from JPype1) (24.0)\n",
            "Installing collected packages: JPype1\n",
            "Successfully installed JPype1-1.5.0\n"
          ]
        }
      ]
    },
    {
      "cell_type": "code",
      "source": [
        "!wget -q -O - ipv4.icanhazip.com"
      ],
      "metadata": {
        "colab": {
          "base_uri": "https://localhost:8080/"
        },
        "id": "UC5XuvLEGob3",
        "outputId": "8bb9f2e5-2de1-462e-962e-23cdb18d6052"
      },
      "execution_count": 24,
      "outputs": [
        {
          "output_type": "stream",
          "name": "stdout",
          "text": [
            "34.134.59.197\n"
          ]
        }
      ]
    },
    {
      "cell_type": "code",
      "source": [
        "! streamlit run app.py & npx localtunnel --port 8501"
      ],
      "metadata": {
        "colab": {
          "base_uri": "https://localhost:8080/"
        },
        "collapsed": true,
        "id": "MYr1MiVcGsBY",
        "outputId": "e47a7e7e-2f07-45a6-dd8a-5a75f5be017f"
      },
      "execution_count": 39,
      "outputs": [
        {
          "output_type": "stream",
          "name": "stdout",
          "text": [
            "\n",
            "Collecting usage statistics. To deactivate, set browser.gatherUsageStats to false.\n",
            "\u001b[0m\n",
            "\u001b[0m\n",
            "\u001b[34m\u001b[1m  You can now view your Streamlit app in your browser.\u001b[0m\n",
            "\u001b[0m\n",
            "\u001b[34m  Network URL: \u001b[0m\u001b[1mhttp://172.28.0.12:8501\u001b[0m\n",
            "\u001b[34m  External URL: \u001b[0m\u001b[1mhttp://34.134.59.197:8501\u001b[0m\n",
            "\u001b[0m\n",
            "\u001b[K\u001b[?25hnpx: installed 22 in 1.451s\n",
            "your url is: https://social-pants-look.loca.lt\n",
            "[nltk_data] Downloading package stopwords to /root/nltk_data...\n",
            "[nltk_data]   Package stopwords is already up-to-date!\n",
            "WARNING: An illegal reflective access operation has occurred\n",
            "WARNING: Illegal reflective access by _zem.com.google.protobuf.UnsafeUtil (file:/content/zemberek-full.jar) to field java.nio.Buffer.address\n",
            "WARNING: Please consider reporting this to the maintainers of _zem.com.google.protobuf.UnsafeUtil\n",
            "WARNING: Use --illegal-access=warn to enable warnings of further illegal reflective access operations\n",
            "WARNING: All illegal access operations will be denied in a future release\n",
            "I|22:38:12.782|Root lexicon created in 288 ms.                                                                     | DictionarySerializer#getDictionaryItems\n",
            "I|22:38:12.784|Dictionary generated in 339 ms                                                                      | RootLexicon#defaultBinaryLexicon\n",
            "I|22:38:13.098|Initialized in 716 ms.                                                                              | TurkishMorphology#createWithDefaults\n",
            "2024-05-17 22:38:13.146 \n",
            "════════════════════════════════════════════════\n",
            "deprecation.showfileUploaderEncoding IS NO LONGER SUPPORTED.\n",
            "\n",
            "deprecation.showfileUploaderEncoding has been deprecated and will be removed in a future version.\n",
            "\n",
            "Please update <user defined>.\n",
            "════════════════════════════════════════════════\n",
            "\n",
            "2024-05-17 22:39:06.656 `st.cache` is deprecated. Please use one of Streamlit's new caching commands,\n",
            "`st.cache_data` or `st.cache_resource`.\n",
            "\n",
            "More information [in our docs](https://docs.streamlit.io/library/advanced-features/caching).\n",
            "[nltk_data] Downloading package stopwords to /root/nltk_data...\n",
            "[nltk_data]   Package stopwords is already up-to-date!\n",
            "I|22:39:30.710|Initialized in 104 ms.                                                                              | TurkishMorphology#createWithDefaults\n",
            "2024-05-17 22:39:30.937 \n",
            "════════════════════════════════════════════════\n",
            "deprecation.showfileUploaderEncoding IS NO LONGER SUPPORTED.\n",
            "\n",
            "deprecation.showfileUploaderEncoding has been deprecated and will be removed in a future version.\n",
            "\n",
            "Please update <user defined>.\n",
            "════════════════════════════════════════════════\n",
            "\n",
            "2024-05-17 22:39:30.940 `st.cache` is deprecated. Please use one of Streamlit's new caching commands,\n",
            "`st.cache_data` or `st.cache_resource`.\n",
            "\n",
            "More information [in our docs](https://docs.streamlit.io/library/advanced-features/caching).\n",
            "[nltk_data] Downloading package stopwords to /root/nltk_data...\n",
            "[nltk_data]   Package stopwords is already up-to-date!\n",
            "I|22:39:33.540|Initialized in 87 ms.                                                                               | TurkishMorphology#createWithDefaults\n",
            "2024-05-17 22:39:33.744 \n",
            "════════════════════════════════════════════════\n",
            "deprecation.showfileUploaderEncoding IS NO LONGER SUPPORTED.\n",
            "\n",
            "deprecation.showfileUploaderEncoding has been deprecated and will be removed in a future version.\n",
            "\n",
            "Please update <user defined>.\n",
            "════════════════════════════════════════════════\n",
            "\n",
            "[nltk_data] Downloading package stopwords to /root/nltk_data...\n",
            "[nltk_data]   Package stopwords is already up-to-date!\n",
            "I|22:39:34.077|Initialized in 91 ms.                                                                               | TurkishMorphology#createWithDefaults\n",
            "2024-05-17 22:39:34.266 \n",
            "════════════════════════════════════════════════\n",
            "deprecation.showfileUploaderEncoding IS NO LONGER SUPPORTED.\n",
            "\n",
            "deprecation.showfileUploaderEncoding has been deprecated and will be removed in a future version.\n",
            "\n",
            "Please update <user defined>.\n",
            "════════════════════════════════════════════════\n",
            "\n",
            "2024-05-17 22:39:34.504 `st.cache` is deprecated. Please use one of Streamlit's new caching commands,\n",
            "`st.cache_data` or `st.cache_resource`.\n",
            "\n",
            "More information [in our docs](https://docs.streamlit.io/library/advanced-features/caching).\n",
            "1/1 [==============================] - 0s 315ms/step\n",
            "[nltk_data] Downloading package stopwords to /root/nltk_data...\n",
            "[nltk_data]   Package stopwords is already up-to-date!\n",
            "I|22:40:31.352|Initialized in 88 ms.                                                                               | TurkishMorphology#createWithDefaults\n",
            "2024-05-17 22:40:31.563 \n",
            "════════════════════════════════════════════════\n",
            "deprecation.showfileUploaderEncoding IS NO LONGER SUPPORTED.\n",
            "\n",
            "deprecation.showfileUploaderEncoding has been deprecated and will be removed in a future version.\n",
            "\n",
            "Please update <user defined>.\n",
            "════════════════════════════════════════════════\n",
            "\n",
            "[nltk_data] Downloading package stopwords to /root/nltk_data...\n",
            "[nltk_data]   Package stopwords is already up-to-date!\n",
            "I|22:40:31.892|Initialized in 104 ms.                                                                              | TurkishMorphology#createWithDefaults\n",
            "2024-05-17 22:40:32.068 \n",
            "════════════════════════════════════════════════\n",
            "deprecation.showfileUploaderEncoding IS NO LONGER SUPPORTED.\n",
            "\n",
            "deprecation.showfileUploaderEncoding has been deprecated and will be removed in a future version.\n",
            "\n",
            "Please update <user defined>.\n",
            "════════════════════════════════════════════════\n",
            "\n",
            "2024-05-17 22:40:32.302 `st.cache` is deprecated. Please use one of Streamlit's new caching commands,\n",
            "`st.cache_data` or `st.cache_resource`.\n",
            "\n",
            "More information [in our docs](https://docs.streamlit.io/library/advanced-features/caching).\n",
            "1/1 [==============================] - 0s 123ms/step\n",
            "[nltk_data] Downloading package stopwords to /root/nltk_data...\n",
            "[nltk_data]   Package stopwords is already up-to-date!\n",
            "I|22:40:48.653|Initialized in 93 ms.                                                                               | TurkishMorphology#createWithDefaults\n",
            "[nltk_data] Downloading package stopwords to /root/nltk_data...\n",
            "[nltk_data]   Package stopwords is already up-to-date!\n",
            "2024-05-17 22:40:49.082 \n",
            "════════════════════════════════════════════════\n",
            "deprecation.showfileUploaderEncoding IS NO LONGER SUPPORTED.\n",
            "\n",
            "deprecation.showfileUploaderEncoding has been deprecated and will be removed in a future version.\n",
            "\n",
            "Please update <user defined>.\n",
            "════════════════════════════════════════════════\n",
            "\n",
            "I|22:40:49.172|Initialized in 89 ms.                                                                               | TurkishMorphology#createWithDefaults\n",
            "2024-05-17 22:40:49.351 \n",
            "════════════════════════════════════════════════\n",
            "deprecation.showfileUploaderEncoding IS NO LONGER SUPPORTED.\n",
            "\n",
            "deprecation.showfileUploaderEncoding has been deprecated and will be removed in a future version.\n",
            "\n",
            "Please update <user defined>.\n",
            "════════════════════════════════════════════════\n",
            "\n",
            "2024-05-17 22:40:49.358 `st.cache` is deprecated. Please use one of Streamlit's new caching commands,\n",
            "`st.cache_data` or `st.cache_resource`.\n",
            "\n",
            "More information [in our docs](https://docs.streamlit.io/library/advanced-features/caching).\n",
            "1/1 [==============================] - 0s 129ms/step\n",
            "[nltk_data] Downloading package stopwords to /root/nltk_data...\n",
            "[nltk_data]   Package stopwords is already up-to-date!\n",
            "I|22:42:14.136|Initialized in 85 ms.                                                                               | TurkishMorphology#createWithDefaults\n",
            "2024-05-17 22:42:14.367 \n",
            "════════════════════════════════════════════════\n",
            "deprecation.showfileUploaderEncoding IS NO LONGER SUPPORTED.\n",
            "\n",
            "deprecation.showfileUploaderEncoding has been deprecated and will be removed in a future version.\n",
            "\n",
            "Please update <user defined>.\n",
            "════════════════════════════════════════════════\n",
            "\n",
            "2024-05-17 22:42:14.369 `st.cache` is deprecated. Please use one of Streamlit's new caching commands,\n",
            "`st.cache_data` or `st.cache_resource`.\n",
            "\n",
            "More information [in our docs](https://docs.streamlit.io/library/advanced-features/caching).\n",
            "[nltk_data] Downloading package stopwords to /root/nltk_data...\n",
            "[nltk_data]   Package stopwords is already up-to-date!\n",
            "I|22:42:14.475|Initialized in 96 ms.                                                                               | TurkishMorphology#createWithDefaults\n",
            "2024-05-17 22:42:14.650 \n",
            "════════════════════════════════════════════════\n",
            "deprecation.showfileUploaderEncoding IS NO LONGER SUPPORTED.\n",
            "\n",
            "deprecation.showfileUploaderEncoding has been deprecated and will be removed in a future version.\n",
            "\n",
            "Please update <user defined>.\n",
            "════════════════════════════════════════════════\n",
            "\n",
            "2024-05-17 22:42:14.883 `st.cache` is deprecated. Please use one of Streamlit's new caching commands,\n",
            "`st.cache_data` or `st.cache_resource`.\n",
            "\n",
            "More information [in our docs](https://docs.streamlit.io/library/advanced-features/caching).\n",
            "1/1 [==============================] - 0s 133ms/step\n",
            "^C\n"
          ]
        }
      ]
    },
    {
      "cell_type": "code",
      "source": [
        "!pip install pyngrok"
      ],
      "metadata": {
        "colab": {
          "base_uri": "https://localhost:8080/"
        },
        "id": "LcRd6wWbvL2u",
        "outputId": "8196e986-af7f-4b27-fefa-169d47b0f93f"
      },
      "execution_count": 40,
      "outputs": [
        {
          "output_type": "stream",
          "name": "stdout",
          "text": [
            "Collecting pyngrok\n",
            "  Downloading pyngrok-7.1.6-py3-none-any.whl (22 kB)\n",
            "Requirement already satisfied: PyYAML>=5.1 in /usr/local/lib/python3.10/dist-packages (from pyngrok) (6.0.1)\n",
            "Installing collected packages: pyngrok\n",
            "Successfully installed pyngrok-7.1.6\n"
          ]
        }
      ]
    },
    {
      "cell_type": "code",
      "source": [
        "!ngrok config add-authtoken 2gbl5HD2WyK9N3a78YbQiyVS7S4_7Pz6KgT1PcqSoDe14w8Bk"
      ],
      "metadata": {
        "colab": {
          "base_uri": "https://localhost:8080/"
        },
        "id": "l3KdJtusvKad",
        "outputId": "706aac22-625b-4acd-da7d-f6e341f8904a"
      },
      "execution_count": 41,
      "outputs": [
        {
          "output_type": "stream",
          "name": "stdout",
          "text": [
            "Authtoken saved to configuration file: /root/.config/ngrok/ngrok.yml\n"
          ]
        }
      ]
    },
    {
      "cell_type": "code",
      "source": [
        "!nohup streamlit run app.py &"
      ],
      "metadata": {
        "colab": {
          "base_uri": "https://localhost:8080/"
        },
        "id": "nREhMp1awWOP",
        "outputId": "70f6a282-e004-4ff5-b134-3d8e5b494331"
      },
      "execution_count": 45,
      "outputs": [
        {
          "output_type": "stream",
          "name": "stdout",
          "text": [
            "nohup: appending output to 'nohup.out'\n"
          ]
        }
      ]
    },
    {
      "cell_type": "code",
      "source": [
        "from pyngrok import ngrok\n",
        "url = ngrok.connect(8501)\n",
        "url"
      ],
      "metadata": {
        "colab": {
          "base_uri": "https://localhost:8080/"
        },
        "id": "bbNDr16jwkhJ",
        "outputId": "c6d29078-00ec-41aa-e167-ef6bb2397e1b"
      },
      "execution_count": 46,
      "outputs": [
        {
          "output_type": "execute_result",
          "data": {
            "text/plain": [
              "<NgrokTunnel: \"https://6dea-34-134-59-197.ngrok-free.app\" -> \"http://localhost:8501\">"
            ]
          },
          "metadata": {},
          "execution_count": 46
        }
      ]
    },
    {
      "cell_type": "code",
      "source": [
        "!cat /content/nohup.out"
      ],
      "metadata": {
        "colab": {
          "base_uri": "https://localhost:8080/"
        },
        "id": "o5W_vg36w4ic",
        "outputId": "725af88c-7202-4b98-c13f-037ca7c04bb0"
      },
      "execution_count": 47,
      "outputs": [
        {
          "output_type": "stream",
          "name": "stdout",
          "text": [
            "\n",
            "Collecting usage statistics. To deactivate, set browser.gatherUsageStats to false.\n",
            "\n",
            "\n",
            "  You can now view your Streamlit app in your browser.\n",
            "\n",
            "  Network URL: http://172.28.0.12:8501\n",
            "  External URL: http://34.134.59.197:8501\n",
            "\n",
            "  Stopping...\n",
            "Traceback (most recent call last):\n",
            "  File \"/usr/local/bin/streamlit\", line 8, in <module>\n",
            "    sys.exit(main())\n",
            "  File \"/usr/local/lib/python3.10/dist-packages/click/core.py\", line 1157, in __call__\n",
            "    return self.main(*args, **kwargs)\n",
            "  File \"/usr/local/lib/python3.10/dist-packages/click/core.py\", line 1078, in main\n",
            "    rv = self.invoke(ctx)\n",
            "  File \"/usr/local/lib/python3.10/dist-packages/click/core.py\", line 1688, in invoke\n",
            "    return _process_result(sub_ctx.command.invoke(sub_ctx))\n",
            "  File \"/usr/local/lib/python3.10/dist-packages/click/core.py\", line 1434, in invoke\n",
            "    return ctx.invoke(self.callback, **ctx.params)\n",
            "  File \"/usr/local/lib/python3.10/dist-packages/click/core.py\", line 783, in invoke\n",
            "    return __callback(*args, **kwargs)\n",
            "  File \"/usr/local/lib/python3.10/dist-packages/streamlit/web/cli.py\", line 234, in main_run\n",
            "    _main_run(target, args, flag_options=kwargs)\n",
            "  File \"/usr/local/lib/python3.10/dist-packages/streamlit/web/cli.py\", line 270, in _main_run\n",
            "    bootstrap.run(file, is_hello, args, flag_options)\n",
            "  File \"/usr/local/lib/python3.10/dist-packages/streamlit/web/bootstrap.py\", line 405, in run\n",
            "    asyncio.run(run_server())\n",
            "  File \"/usr/lib/python3.10/asyncio/runners.py\", line 44, in run\n",
            "    return loop.run_until_complete(main)\n",
            "  File \"/usr/lib/python3.10/asyncio/base_events.py\", line 636, in run_until_complete\n",
            "    self.run_forever()\n",
            "  File \"/usr/lib/python3.10/asyncio/base_events.py\", line 603, in run_forever\n",
            "    self._run_once()\n",
            "  File \"/usr/lib/python3.10/asyncio/base_events.py\", line 1871, in _run_once\n",
            "    event_list = self._selector.select(timeout)\n",
            "  File \"/usr/lib/python3.10/selectors.py\", line 469, in select\n",
            "    fd_event_list = self._selector.poll(timeout, max_ev)\n",
            "  File \"/usr/local/lib/python3.10/dist-packages/streamlit/web/bootstrap.py\", line 55, in signal_handler\n",
            "    server.stop()\n",
            "  File \"/usr/local/lib/python3.10/dist-packages/streamlit/web/server/server.py\", line 403, in stop\n",
            "    cli_util.print_to_cli(\"  Stopping...\", fg=\"blue\")\n",
            "  File \"/usr/local/lib/python3.10/dist-packages/streamlit/cli_util.py\", line 29, in print_to_cli\n",
            "    click.secho(message, **kwargs)\n",
            "  File \"/usr/local/lib/python3.10/dist-packages/click/termui.py\", line 634, in secho\n",
            "    return echo(message, file=file, nl=nl, err=err, color=color)\n",
            "  File \"/usr/local/lib/python3.10/dist-packages/click/utils.py\", line 319, in echo\n",
            "    file.flush()\n",
            "  File \"/usr/local/lib/python3.10/dist-packages/streamlit/web/bootstrap.py\", line 55, in signal_handler\n",
            "    server.stop()\n",
            "  File \"/usr/local/lib/python3.10/dist-packages/streamlit/web/server/server.py\", line 403, in stop\n",
            "    cli_util.print_to_cli(\"  Stopping...\", fg=\"blue\")\n",
            "  File \"/usr/local/lib/python3.10/dist-packages/streamlit/cli_util.py\", line 29, in print_to_cli\n",
            "    click.secho(message, **kwargs)\n",
            "  File \"/usr/local/lib/python3.10/dist-packages/click/termui.py\", line 634, in secho\n",
            "    return echo(message, file=file, nl=nl, err=err, color=color)\n",
            "  File \"/usr/local/lib/python3.10/dist-packages/click/utils.py\", line 319, in echo\n",
            "    file.flush()\n",
            "RuntimeError: reentrant call inside <_io.BufferedWriter name='<stdout>'>\n",
            "\n",
            "Collecting usage statistics. To deactivate, set browser.gatherUsageStats to false.\n",
            "\n",
            "\n",
            "  You can now view your Streamlit app in your browser.\n",
            "\n",
            "  Network URL: http://172.28.0.12:8501\n",
            "  External URL: http://34.134.59.197:8501\n",
            "\n"
          ]
        }
      ]
    },
    {
      "cell_type": "code",
      "source": [
        "import streamlit as st\n",
        "import tensorflow as tf\n",
        "import numpy as np\n",
        "import jpype\n",
        "from typing import List\n",
        "from jpype import JClass, JString, getDefaultJVMPath, shutdownJVM, startJVM, java\n",
        "from typing import List\n",
        "import re\n",
        "from nltk.corpus import stopwords\n",
        "from tensorflow.keras.preprocessing.text import Tokenizer\n",
        "from tensorflow.keras.preprocessing.sequence import pad_sequences\n",
        "\n",
        "#  ----------------Metin Önişleme-----------------\n",
        "stopwords_turkish = set(stopwords.words('turkish'))\n",
        "stopwords_turkish.update([\"bir\", \"kadar\", \"sonra\", \"kere\", \"mi\", \"ye\", \"te\", \"ta\", \"nun\", \"daki\", \"nın\", \"ten\"])\n",
        "silinecek_tokenler = ['ol', 'et', 'yap', 'ben', 'ver', 'al', 'de', 'gel', 'yıl', 'gün', 'kendi', 'çık', 'söyle', 'ara', 'iş', 'var', 'son', 'yer', 'gör', 'git', 'başla', 'ilk', 'bulun', 'başkan', 'konu', 'türkiye', 'kullan', 'yüz', 'çalış']\n",
        "stopwords_turkish.update(silinecek_tokenler)\n",
        "\n",
        "url_pattern = re.compile(r'https?://\\S+')\n",
        "\n",
        "def remove_urls(text):\n",
        "    return url_pattern.sub('', text)\n",
        "\n",
        "def remove_stopwords(text):\n",
        "    return \" \".join(word for word in text.split() if word.lower() not in stopwords_turkish)\n",
        "\n",
        "def preprocessing(text):\n",
        "    text = text.lower()\n",
        "\n",
        "    text = remove_urls(text)\n",
        "\n",
        "    text = re.sub(r'([.,])\\s*', ' ', text)\n",
        "    text = re.sub(r'[^\\w\\s]', '', text)\n",
        "\n",
        "    text = re.sub(r'\\d', '', text)\n",
        "\n",
        "    text = re.sub(r'\\n', ' ', text)\n",
        "\n",
        "    text = re.sub(r'<.*?>', '', text)\n",
        "\n",
        "    text = remove_stopwords(text)\n",
        "\n",
        "    return text\n",
        "\n",
        "#-----------------------Zemberek-------------------------\n",
        "\n",
        "class Zemberek:\n",
        "    def __init__(self):\n",
        "        self.start_jvm()\n",
        "\n",
        "    def start_jvm(self):\n",
        "        if not jpype.isJVMStarted():\n",
        "            jpype.startJVM(\n",
        "                getDefaultJVMPath(),\n",
        "                \"-ea\",\n",
        "                \"-Djava.class.path=/content/zemberek-full.jar\",\n",
        "                convertStrings=False,\n",
        "            )\n",
        "\n",
        "        TurkishMorphology = JClass(\"zemberek.morphology.TurkishMorphology\")\n",
        "        self.morphology = TurkishMorphology.createWithDefaults()\n",
        "\n",
        "    def stop_jvm(self):\n",
        "        shutdownJVM()\n",
        "\n",
        "    def stem_word(self, word: str) -> str:\n",
        "        result = self.morphology.analyzeAndDisambiguate(word).bestAnalysis()\n",
        "        stems = [analysis.getStem() for analysis in result]\n",
        "        return stems[0] if stems else \"\"\n",
        "\n",
        "\n",
        "    def lemmatize_word(self, word: str) -> str:\n",
        "        result = self.morphology.analyzeAndDisambiguate(word).bestAnalysis()\n",
        "        lemmas = [analysis.getLemmas()[0] for analysis in result]\n",
        "        return lemmas[0] if lemmas else \"\"\n",
        "\n",
        "\n",
        "    def stem_sentence(self, sentence: str) -> List[str]:\n",
        "        return [self.stem_word(word) for word in sentence.split()]\n",
        "\n",
        "    def lemmatize_sentence(self, sentence: str) -> List[str]:\n",
        "        return [self.lemmatize_word(word) for word in sentence.split()]\n",
        "\n",
        "\n",
        "zemberek = Zemberek()\n",
        "\n",
        "\n",
        "# Streamlit uygulama ayarları\n",
        "st.set_option('deprecation.showfileUploaderEncoding', False)\n",
        "\n",
        "@st.cache(allow_output_mutation=True)\n",
        "def load_model():\n",
        "    model = tf.keras.models.load_model('/content/nlp_model.hdf5')\n",
        "    return model\n",
        "\n",
        "model = load_model()\n",
        "\n",
        "tokenizer = Tokenizer()\n",
        "max_length = 500  # Maksimum sequence uzunluğu\n",
        "padding_type='post'\n",
        "truncating_type='post'\n",
        "\n",
        "class_names = [\"bilim-teknoloji\", \"finans-ekonomi\", \"kültür-sanat\", \"magazin\", \"sağlık\", \"siyaset\", \"spor\", \"turizm\", \"çevre\"]\n",
        "\n",
        "# Streamlit uygulaması\n",
        "\n",
        "st.write(\"\"\"\n",
        "         # Haber Metni Sınıflandırma\n",
        "         \"\"\")\n",
        "\n",
        "# Kullanıcıdan doğrudan metin girmesini isteyin\n",
        "text_input = st.text_area(\"Lütfen bir haber metni girin\")\n",
        "\n",
        "if st.button(\"Tahmin Et\"):\n",
        "    if text_input:\n",
        "        st.write(\"Girilen metin:\")\n",
        "        st.write(text_input)\n",
        "\n",
        "        # Ön işleme\n",
        "        processed_text = preprocessing(text_input)\n",
        "        st.write(\"İşlenmiş metin:\")\n",
        "        st.write(processed_text)\n",
        "\n",
        "        # Zemberek ile lemmatization\n",
        "        st.write(\"Kökenler (Lemmatization):\")\n",
        "        lemmatized_sentence = zemberek.lemmatize_sentence(processed_text)\n",
        "        lemmatized_text = \" \".join(lemmatized_sentence)\n",
        "        st.write(lemmatized_text)\n",
        "\n",
        "        # Tokenize ve Pad İşlemleri\n",
        "        tokenizer.fit_on_texts([lemmatized_text])\n",
        "        sequences = tokenizer.texts_to_sequences([lemmatized_text])\n",
        "        st.write(\"Tokenized Sequences:\")\n",
        "        st.write(sequences)\n",
        "        padded_sequences = pad_sequences(sequences, maxlen=max_length, padding=padding_type, truncating=truncating_type)\n",
        "\n",
        "        # Tahmin yap\n",
        "        prediction = model.predict(padded_sequences)\n",
        "        predicted_class_index = np.argmax(prediction)\n",
        "        predicted_class_name = class_names[predicted_class_index]\n",
        "\n",
        "        st.write(\"Tahmin edilen sınıf:\", predicted_class_name)\n",
        "        st.write(\"Tahmin olasılıkları:\", prediction)\n",
        "\n"
      ],
      "metadata": {
        "id": "-np_gAuvpBY3"
      },
      "execution_count": null,
      "outputs": []
    },
    {
      "cell_type": "code",
      "source": [],
      "metadata": {
        "id": "6rK6ylILpBog"
      },
      "execution_count": null,
      "outputs": []
    }
  ]
}